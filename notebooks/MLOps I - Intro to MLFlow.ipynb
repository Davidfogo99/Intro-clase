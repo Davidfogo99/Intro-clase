{
 "cells": [
  {
   "cell_type": "markdown",
   "id": "8e250a70",
   "metadata": {},
   "source": [
    "# Intro to MLFLOW I"
   ]
  },
  {
   "cell_type": "code",
   "execution_count": 4,
   "id": "28c490af",
   "metadata": {},
   "outputs": [],
   "source": [
    "import mlflow"
   ]
  },
  {
   "cell_type": "code",
   "execution_count": 6,
   "id": "acfe5b9a",
   "metadata": {},
   "outputs": [],
   "source": [
    "MLFLOW_TRACKING_URI = \"http://localhost:5000\"\n",
    "\n",
    "mlflow.set_tracking_uri(MLFLOW_TRACKING_URI)"
   ]
  },
  {
   "cell_type": "code",
   "execution_count": 7,
   "id": "fbea1aae",
   "metadata": {},
   "outputs": [],
   "source": [
    "# if not working this will raise an exception\n",
    "experiments = mlflow.search_experiments()"
   ]
  },
  {
   "cell_type": "markdown",
   "id": "2d2cff38",
   "metadata": {},
   "source": [
    "## Connect to the Experiment"
   ]
  },
  {
   "cell_type": "code",
   "execution_count": 11,
   "id": "a8b43d26",
   "metadata": {},
   "outputs": [
    {
     "data": {
      "text/plain": [
       "<Experiment: artifact_location='mlflow-artifacts:/484051953015737398', creation_time=1750938958768, experiment_id='484051953015737398', last_update_time=1750938958768, lifecycle_stage='active', name='My Experiment', tags={}>"
      ]
     },
     "execution_count": 11,
     "metadata": {},
     "output_type": "execute_result"
    }
   ],
   "source": [
    "EXPERIMENT_NAME = \"My Experiment\"\n",
    "mlflow.set_experiment(EXPERIMENT_NAME)"
   ]
  },
  {
   "cell_type": "markdown",
   "id": "9f5d45d3",
   "metadata": {},
   "source": [
    "### Create my first run"
   ]
  },
  {
   "cell_type": "code",
   "execution_count": null,
   "id": "4dd907aa",
   "metadata": {},
   "outputs": [
    {
     "name": "stdout",
     "output_type": "stream",
     "text": [
      "🏃 View run traveling-hog-399 at: http://localhost:5000/#/experiments/484051953015737398/runs/a78c45d4b7dd4693a45f5561a7c68e22\n",
      "🧪 View experiment at: http://localhost:5000/#/experiments/484051953015737398\n"
     ]
    }
   ],
   "source": [
    "with mlflow.start_run():\n",
    "    #train the model\n",
    "    #log parameters, metrics, artifacts, etc...\n",
    "    pass"
   ]
  },
  {
   "cell_type": "markdown",
   "id": "e03561aa",
   "metadata": {},
   "source": [
    "### Log Data into MLFlow"
   ]
  },
  {
   "cell_type": "markdown",
   "id": "b14544da",
   "metadata": {},
   "source": [
    "Log Tag"
   ]
  },
  {
   "cell_type": "code",
   "execution_count": 18,
   "id": "715693a9",
   "metadata": {},
   "outputs": [
    {
     "name": "stdout",
     "output_type": "stream",
     "text": [
      "🏃 View run enchanting-vole-922 at: http://localhost:5000/#/experiments/484051953015737398/runs/fc9dc7593bde40c6b16efa191c150315\n",
      "🧪 View experiment at: http://localhost:5000/#/experiments/484051953015737398\n"
     ]
    }
   ],
   "source": [
    "with mlflow.start_run():\n",
    "    mlflow.set_tag(\"Model name\", \"Decision Tree\")\n",
    "    mlflow.set_tag(\"Author\", \"David\")\n",
    "    pass"
   ]
  },
  {
   "cell_type": "markdown",
   "id": "90f4d952",
   "metadata": {},
   "source": [
    "Log Parameters"
   ]
  },
  {
   "cell_type": "code",
   "execution_count": 19,
   "id": "1dd0c9ac",
   "metadata": {},
   "outputs": [
    {
     "name": "stdout",
     "output_type": "stream",
     "text": [
      "🏃 View run gaudy-yak-450 at: http://localhost:5000/#/experiments/484051953015737398/runs/9d355f63f88a4ec986be2b419188e2ee\n",
      "🧪 View experiment at: http://localhost:5000/#/experiments/484051953015737398\n"
     ]
    }
   ],
   "source": [
    "with mlflow.start_run():\n",
    "    mlflow.log_param(\"Test Size\", 0.2)\n",
    "    pass"
   ]
  },
  {
   "cell_type": "markdown",
   "id": "d352c561",
   "metadata": {},
   "source": [
    "Log Metrics"
   ]
  },
  {
   "cell_type": "code",
   "execution_count": 12,
   "id": "d2fbb2e1",
   "metadata": {},
   "outputs": [
    {
     "name": "stdout",
     "output_type": "stream",
     "text": [
      "🏃 View run bedecked-foal-577 at: http://localhost:5000/#/experiments/484051953015737398/runs/7252e04f53574affaf2579caea7ef494\n",
      "🧪 View experiment at: http://localhost:5000/#/experiments/484051953015737398\n"
     ]
    }
   ],
   "source": [
    "with mlflow.start_run():\n",
    "    mlflow.set_tag(\"Model name\", \"Decision Tree\")\n",
    "    mlflow.log_param(\"Test Size\", 0.2)\n",
    "    # train your model here\n",
    "    mlflow.log_metric(\"Accurancy\", 0.95)\n",
    "    pass"
   ]
  },
  {
   "cell_type": "markdown",
   "id": "01393130",
   "metadata": {},
   "source": [
    "Log parameters, metrics and tags"
   ]
  },
  {
   "cell_type": "code",
   "execution_count": null,
   "id": "82631700",
   "metadata": {},
   "outputs": [],
   "source": [
    "TEST_SIZE = 0.2\n",
    "MODEL = \"Decision Tree\"\n",
    "\n",
    "with mlflow.start_run():\n",
    "    mlflow.set_tag(\"Model name\", MODEL)\n",
    "    mlflow.log_param(\"Test Size\", TEST_SIZE)\n",
    "    # train your model here\n",
    "    # model.fit(X_train, y_train)\n",
    "    # y_pred = model.predict(X_test)\n",
    "    # acc = accuracy_score(y_test, y_pred)\n",
    "    acc = 0.95  # Example accuracy\n",
    "    mlflow.log_metric(\"Accurancy\", acc)\n",
    "    pass"
   ]
  }
 ],
 "metadata": {
  "kernelspec": {
   "display_name": "venv",
   "language": "python",
   "name": "python3"
  },
  "language_info": {
   "codemirror_mode": {
    "name": "ipython",
    "version": 3
   },
   "file_extension": ".py",
   "mimetype": "text/x-python",
   "name": "python",
   "nbconvert_exporter": "python",
   "pygments_lexer": "ipython3",
   "version": "3.13.5"
  }
 },
 "nbformat": 4,
 "nbformat_minor": 5
}
